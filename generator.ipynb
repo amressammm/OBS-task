{
  "cells": [
    {
      "cell_type": "code",
      "execution_count": 1,
      "metadata": {
        "colab": {
          "base_uri": "https://localhost:8080/",
          "height": 371
        },
        "id": "3weAEDjkSVRY",
        "outputId": "cbf9e314-5f55-40e1-a71c-1b00032fd784"
      },
      "outputs": [],
      "source": [
        "# Generating the random data\n",
        "import socket\n",
        "import random\n",
        "import datetime\n",
        "from datetime import date\n",
        "import struct\n",
        "import logging\n",
        "from matplotlib import use\n",
        "from random_username.generate import generate_username\n",
        "\n",
        "start_date = datetime.datetime(2019, 10, 20).toordinal()\n",
        "end_date = datetime.datetime(2019, 10, 30).toordinal()\n",
        "random_day = date.fromordinal(random.randint(start_date, end_date))\n",
        "\n",
        "\n",
        "logging.basicConfig(filename=\"app.log\",\n",
        "                    level=logging.DEBUG)\n",
        "logging.getLogger().setLevel(logging.INFO)\n",
        "\n",
        "protocols = [\"UDP\",\"TCP\"]\n",
        "actionsOne=[\"Allow\", \"Deny\", \"Bypass\", \"Log-only\"]\n",
        "actionsTwo=[ \"Bypass\", \"Log-only\"]\n",
        "actionsThree=[\"Allow\", \"Bypass\", \"Log-only\"]\n",
        "\n",
        "userNames=generate_username(500)\n",
        "users=[]\n",
        "\n",
        "for i in range(1,600):\n",
        "  j=i\n",
        "\n",
        "  if(i>499):\n",
        "    j=i-500\n",
        "  users.append((userNames[j],socket.inet_ntoa(struct.pack('>I', random.randint(1, 0xffffffff)))))\n",
        "\n",
        "result=[]\n",
        "j=0\n",
        "for i in range(1, 1000000):\n",
        "  x=9\n",
        "  y=18\n",
        "  random_day = date.fromordinal(random.randint(start_date, end_date))\n",
        "  protocol = random.choice(protocols) \n",
        "  if(i>500000): \n",
        "    action=random.choice(actionsTwo) \n",
        "  elif(i>100000):\n",
        "    action=random.choice(actionsThree)\n",
        "  else:\n",
        "    action=random.choice(actionsOne)\n",
        "  if(i>700000):\n",
        "    x=0\n",
        "    y=23\n",
        "   \n",
        "  if(j>598):\n",
        "    j=0\n",
        "  logging.info(random_day.strftime(\"%Y %m %d\")+\" \"+datetime.time(hour=random.randint(x, y), minute=random.randint(0, 59), second=random.randint(0, 59)).strftime(\"%H %M %S \")+users[j][1]+\" \"+socket.inet_ntoa(struct.pack('>I', random.randint(1, 0xffffffff)))+\" \"+protocol+\" \"+users[j][0]+\" \"+action)\n",
        "  j=j+1\n",
        " "
      ]
    }
  ],
  "metadata": {
    "colab": {
      "provenance": []
    },
    "kernelspec": {
      "display_name": "Python 3.9.6 64-bit",
      "language": "python",
      "name": "python3"
    },
    "language_info": {
      "codemirror_mode": {
        "name": "ipython",
        "version": 3
      },
      "file_extension": ".py",
      "mimetype": "text/x-python",
      "name": "python",
      "nbconvert_exporter": "python",
      "pygments_lexer": "ipython3",
      "version": "3.9.6"
    },
    "vscode": {
      "interpreter": {
        "hash": "7812ea015bdcee6f23a998adcdd2ef97c151c0c241b7b7070987d9313e41299d"
      }
    }
  },
  "nbformat": 4,
  "nbformat_minor": 0
}
